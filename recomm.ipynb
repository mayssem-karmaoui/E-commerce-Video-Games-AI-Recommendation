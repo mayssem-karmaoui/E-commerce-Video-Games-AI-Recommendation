{
 "cells": [
  {
   "cell_type": "code",
   "execution_count": null,
   "metadata": {
    "id": "fePsX08N0y7m"
   },
   "outputs": [],
   "source": [
    " import pandas as pd\n",
    "import numpy as np\n",
    "import matplotlib.pyplot as plt\n",
    "import seaborn as sns\n",
    "import pandas as pd\n",
    "import matplotlib.pyplot as plt\n",
    "from sklearn.metrics.pairwise import cosine_similarity\n",
    "from sklearn.preprocessing import StandardScaler\n",
    "from sklearn.feature_extraction.text import TfidfVectorizer\n",
    "from sklearn.metrics.pairwise import linear_kernel\n"
   ]
  },
  {
   "cell_type": "code",
   "execution_count": null,
   "metadata": {
    "id": "OYEHh5vZ40Rz"
   },
   "outputs": [],
   "source": [
    "#read file\n",
    "df = pd.read_csv('vgsales_.csv')\n"
   ]
  },
  {
   "cell_type": "code",
   "execution_count": null,
   "metadata": {
    "colab": {
     "base_uri": "https://localhost:8080/"
    },
    "id": "4LOWVMSOAooV",
    "outputId": "8bbfef87-5887-4916-ee2b-0c9527ec2bf7"
   },
   "outputs": [
    {
     "name": "stdout",
     "output_type": "stream",
     "text": [
      "Number of columns in the dataset: 16\n"
     ]
    }
   ],
   "source": [
    "#nombre des colonnes fel dataset ( 1 means columns wel 0 means rows )\n",
    "num_columns = df.shape[1]\n",
    "\n",
    "print(\"Number of columns in the dataset:\", num_columns)\n"
   ]
  },
  {
   "cell_type": "code",
   "execution_count": null,
   "metadata": {
    "colab": {
     "base_uri": "https://localhost:8080/"
    },
    "id": "ggTC0k1XAolm",
    "outputId": "4ce96cb7-006b-419a-b5c8-ccd62fb828a1"
   },
   "outputs": [
    {
     "name": "stdout",
     "output_type": "stream",
     "text": [
      "Number of rows in the dataset: 16719\n"
     ]
    }
   ],
   "source": [
    "#nombre des lignes fel dataset\n",
    "num_rows = df.shape[0]\n",
    "\n",
    "print(\"Number of rows in the dataset:\", num_rows)\n"
   ]
  },
  {
   "cell_type": "code",
   "execution_count": null,
   "metadata": {
    "colab": {
     "base_uri": "https://localhost:8080/"
    },
    "id": "I9LgLQL8Aoiw",
    "outputId": "e89e6d6c-9f09-4c3c-d8ed-cc10ef026a8d"
   },
   "outputs": [
    {
     "name": "stdout",
     "output_type": "stream",
     "text": [
      "Data types of columns:\n",
      "Name                object\n",
      "Platform            object\n",
      "Year_of_Release    float64\n",
      "Genre               object\n",
      "Publisher           object\n",
      "NA_Sales           float64\n",
      "EU_Sales           float64\n",
      "JP_Sales           float64\n",
      "Other_Sales        float64\n",
      "Global_Sales       float64\n",
      "Critic_Score       float64\n",
      "Critic_Count       float64\n",
      "User_Score          object\n",
      "User_Count         float64\n",
      "Developer           object\n",
      "Rating              object\n",
      "dtype: object\n"
     ]
    }
   ],
   "source": [
    "#l column w datatype mte3ha\n",
    "data_types = df.dtypes\n",
    "print(\"Data types of columns:\")\n",
    "print(data_types)\n"
   ]
  },
  {
   "cell_type": "code",
   "execution_count": null,
   "metadata": {
    "colab": {
     "base_uri": "https://localhost:8080/"
    },
    "id": "H82xUFEUAoLL",
    "outputId": "481e4730-9db0-4e38-ab75-df3e66085482"
   },
   "outputs": [
    {
     "name": "stdout",
     "output_type": "stream",
     "text": [
      "Unique genres:\n",
      "['Sports' 'Platform' 'Racing' 'Role-Playing' 'Puzzle' 'Misc' 'Shooter'\n",
      " 'Simulation' 'Action' 'Fighting' 'Adventure' 'Strategy' nan]\n"
     ]
    }
   ],
   "source": [
    "# Affichage mta3 l genres ely 3ana ( sta3melna l unique bech mata3melech redondance )\n",
    "unique_genres = df['Genre'].unique()\n",
    "print(\"Unique genres:\")\n",
    "print(unique_genres)\n"
   ]
  },
  {
   "cell_type": "code",
   "execution_count": null,
   "metadata": {
    "colab": {
     "base_uri": "https://localhost:8080/"
    },
    "id": "ZfRiHqKKAoDF",
    "outputId": "fe621439-3ad2-4aa1-99e5-52ebe5a79b58"
   },
   "outputs": [
    {
     "name": "stdout",
     "output_type": "stream",
     "text": [
      "Platforms:\n",
      "['Wii' 'NES' 'GB' 'DS' 'X360' 'PS3' 'PS2' 'SNES' 'GBA' 'PS4' '3DS' 'N64'\n",
      " 'PS' 'XB' 'PC' '2600' 'PSP' 'XOne' 'WiiU' 'GC' 'GEN' 'DC' 'PSV' 'SAT'\n",
      " 'SCD' 'WS' 'NG' 'TG16' '3DO' 'GG' 'PCFX']\n"
     ]
    }
   ],
   "source": [
    "\n",
    "unique_platforms = df['Platform'].unique()\n",
    "print(\"Platforms:\")\n",
    "print(unique_platforms)\n"
   ]
  },
  {
   "cell_type": "code",
   "execution_count": null,
   "metadata": {
    "colab": {
     "base_uri": "https://localhost:8080/"
    },
    "id": "sZK0QaNIAn2j",
    "outputId": "46d389a9-4ccf-426d-828b-0fbe57b104e8"
   },
   "outputs": [
    {
     "name": "stdout",
     "output_type": "stream",
     "text": [
      "Missing values:\n",
      "Name                  2\n",
      "Platform              0\n",
      "Year_of_Release     269\n",
      "Genre                 2\n",
      "Publisher            54\n",
      "NA_Sales            871\n",
      "EU_Sales           1199\n",
      "JP_Sales              0\n",
      "Other_Sales        1378\n",
      "Global_Sales        991\n",
      "Critic_Score       8582\n",
      "Critic_Count       8582\n",
      "User_Score         6704\n",
      "User_Count         9129\n",
      "Developer          6623\n",
      "Rating             6769\n",
      "dtype: int64\n"
     ]
    }
   ],
   "source": [
    "missing_values = df.isnull().sum()\n",
    "print(\"Missing values:\")\n",
    "print(missing_values)\n"
   ]
  },
  {
   "cell_type": "code",
   "execution_count": null,
   "metadata": {
    "colab": {
     "base_uri": "https://localhost:8080/"
    },
    "id": "gE4dKTIJMHGr",
    "outputId": "454eafd8-f07a-4b10-d2e5-949d8d6ee81d"
   },
   "outputs": [
    {
     "name": "stdout",
     "output_type": "stream",
     "text": [
      "Year with the highest global sales: 2008.0\n",
      "Global sales in that year: 636.45\n"
     ]
    }
   ],
   "source": [
    "yearly_sales = df.groupby('Year_of_Release')[['NA_Sales', 'EU_Sales', 'JP_Sales', 'Other_Sales', 'Global_Sales']].sum()\n",
    "\n",
    "max_sales_year = yearly_sales['Global_Sales'].idxmax()\n",
    "max_sales_value = yearly_sales['Global_Sales'].max()\n",
    "\n",
    "print(\"Year with the highest global sales:\", max_sales_year)\n",
    "print(\"Global sales in that year:\", max_sales_value)\n"
   ]
  },
  {
   "cell_type": "code",
   "execution_count": null,
   "metadata": {
    "colab": {
     "base_uri": "https://localhost:8080/",
     "height": 477
    },
    "id": "sW9wR1PVMPNi",
    "outputId": "7a5a2311-9418-4388-c206-83cb23762f29"
   },
   "outputs": [
    {
     "data": {
      "image/png": "[encoded data removed]",
      "text/plain": [
       "<Figure size 1000x600 with 1 Axes>"
      ]
     },
     "metadata": {},
     "output_type": "display_data"
    }
   ],
   "source": [
    "yearly_sales = df.groupby('Year_of_Release')[['NA_Sales', 'EU_Sales', 'JP_Sales', 'Other_Sales', 'Global_Sales']].sum()\n",
    "\n",
    "plt.figure(figsize=(10, 6))\n",
    "yearly_sales['Global_Sales'].plot(kind='bar', color='skyblue')\n",
    "plt.title('Global Sales per Year')\n",
    "plt.xlabel('Year')\n",
    "plt.ylabel('Global Sales')\n",
    "plt.xticks(rotation=45, ha='right')\n",
    "plt.tight_layout()\n",
    "plt.show()\n"
   ]
  },
  {
   "cell_type": "code",
   "execution_count": null,
   "metadata": {
    "colab": {
     "base_uri": "https://localhost:8080/",
     "height": 363
    },
    "id": "S9Yh_jXbKaUB",
    "outputId": "f143396c-6c5d-42e2-c2dd-94cb7a2d25e6"
   },
   "outputs": [
    {
     "data": {
      "application/vnd.google.colaboratory.intrinsic+json": {
       "summary": "{\n  \"name\": \"df_top10_GlobalSales\",\n  \"rows\": 10,\n  \"fields\": [\n    {\n      \"column\": \"Name\",\n      \"properties\": {\n        \"dtype\": \"string\",\n        \"num_unique_values\": 10,\n        \"samples\": [\n          \"New Super Mario Bros. Wii\",\n          \"Super Mario Bros.\",\n          \"Tetris\"\n        ],\n        \"semantic_type\": \"\",\n        \"description\": \"\"\n      }\n    },\n    {\n      \"column\": \"Platform\",\n      \"properties\": {\n        \"dtype\": \"category\",\n        \"num_unique_values\": 4,\n        \"samples\": [\n          \"NES\",\n          \"DS\",\n          \"Wii\"\n        ],\n        \"semantic_type\": \"\",\n        \"description\": \"\"\n      }\n    },\n    {\n      \"column\": \"Year_of_Release\",\n      \"properties\": {\n        \"dtype\": \"number\",\n        \"std\": 10.282671507606052,\n        \"min\": 1984.0,\n        \"max\": 2009.0,\n        \"num_unique_values\": 7,\n        \"samples\": [\n          2006.0,\n          1985.0,\n          1989.0\n        ],\n        \"semantic_type\": \"\",\n        \"description\": \"\"\n      }\n    },\n    {\n      \"column\": \"Genre\",\n      \"properties\": {\n        \"dtype\": \"string\",\n        \"num_unique_values\": 7,\n        \"samples\": [\n          \"Sports\",\n          \"Platform\",\n          \"Misc\"\n        ],\n        \"semantic_type\": \"\",\n        \"description\": \"\"\n      }\n    },\n    {\n      \"column\": \"Global_Sales\",\n      \"properties\": {\n        \"dtype\": \"number\",\n        \"std\": 16.49338938282042,\n        \"min\": 28.31,\n        \"max\": 82.53,\n        \"num_unique_values\": 10,\n        \"samples\": [\n          28.32,\n          40.24,\n          30.26\n        ],\n        \"semantic_type\": \"\",\n        \"description\": \"\"\n      }\n    }\n  ]\n}",
       "type": "dataframe",
       "variable_name": "df_top10_GlobalSales"
      },
      "text/html": [
       "\n",
       "  <div id=\"df-36c64f27-ee53-4b1b-9b3d-62d5f267815c\" class=\"colab-df-container\">\n",
       "    <div>\n",
       "<style scoped>\n",
       "    .dataframe tbody tr th:only-of-type {\n",
       "        vertical-align: middle;\n",
       "    }\n",
       "\n",
       "    .dataframe tbody tr th {\n",
       "        vertical-align: top;\n",
       "    }\n",
       "\n",
       "    .dataframe thead th {\n",
       "        text-align: right;\n",
       "    }\n",
       "</style>\n",
       "<table border=\"1\" class=\"dataframe\">\n",
       "  <thead>\n",
       "    <tr style=\"text-align: right;\">\n",
       "      <th></th>\n",
       "      <th>Name</th>\n",
       "      <th>Platform</th>\n",
       "      <th>Year_of_Release</th>\n",
       "      <th>Genre</th>\n",
       "      <th>Global_Sales</th>\n",
       "    </tr>\n",
       "  </thead>\n",
       "  <tbody>\n",
       "    <tr>\n",
       "      <th>0</th>\n",
       "      <td>Wii Sports</td>\n",
       "      <td>Wii</td>\n",
       "      <td>2006.0</td>\n",
       "      <td>Sports</td>\n",
       "      <td>82.53</td>\n",
       "    </tr>\n",
       "    <tr>\n",
       "      <th>1</th>\n",
       "      <td>Super Mario Bros.</td>\n",
       "      <td>NES</td>\n",
       "      <td>1985.0</td>\n",
       "      <td>Platform</td>\n",
       "      <td>40.24</td>\n",
       "    </tr>\n",
       "    <tr>\n",
       "      <th>2</th>\n",
       "      <td>Mario Kart Wii</td>\n",
       "      <td>Wii</td>\n",
       "      <td>2008.0</td>\n",
       "      <td>Racing</td>\n",
       "      <td>35.52</td>\n",
       "    </tr>\n",
       "    <tr>\n",
       "      <th>3</th>\n",
       "      <td>Wii Sports Resort</td>\n",
       "      <td>Wii</td>\n",
       "      <td>2009.0</td>\n",
       "      <td>Sports</td>\n",
       "      <td>32.77</td>\n",
       "    </tr>\n",
       "    <tr>\n",
       "      <th>4</th>\n",
       "      <td>Pokemon Red/Pokemon Blue</td>\n",
       "      <td>GB</td>\n",
       "      <td>1996.0</td>\n",
       "      <td>Role-Playing</td>\n",
       "      <td>31.37</td>\n",
       "    </tr>\n",
       "    <tr>\n",
       "      <th>5</th>\n",
       "      <td>Tetris</td>\n",
       "      <td>GB</td>\n",
       "      <td>1989.0</td>\n",
       "      <td>Puzzle</td>\n",
       "      <td>30.26</td>\n",
       "    </tr>\n",
       "    <tr>\n",
       "      <th>6</th>\n",
       "      <td>New Super Mario Bros.</td>\n",
       "      <td>DS</td>\n",
       "      <td>2006.0</td>\n",
       "      <td>Platform</td>\n",
       "      <td>29.80</td>\n",
       "    </tr>\n",
       "    <tr>\n",
       "      <th>7</th>\n",
       "      <td>Wii Play</td>\n",
       "      <td>Wii</td>\n",
       "      <td>2006.0</td>\n",
       "      <td>Misc</td>\n",
       "      <td>28.92</td>\n",
       "    </tr>\n",
       "    <tr>\n",
       "      <th>8</th>\n",
       "      <td>New Super Mario Bros. Wii</td>\n",
       "      <td>Wii</td>\n",
       "      <td>2009.0</td>\n",
       "      <td>Platform</td>\n",
       "      <td>28.32</td>\n",
       "    </tr>\n",
       "    <tr>\n",
       "      <th>9</th>\n",
       "      <td>Duck Hunt</td>\n",
       "      <td>NES</td>\n",
       "      <td>1984.0</td>\n",
       "      <td>Shooter</td>\n",
       "      <td>28.31</td>\n",
       "    </tr>\n",
       "  </tbody>\n",
       "</table>\n",
       "</div>\n",
       "    <div class=\"colab-df-buttons\">\n",
       "\n",
       "  <div class=\"colab-df-container\">\n",
       "    <button class=\"colab-df-convert\" onclick=\"convertToInteractive('df-36c64f27-ee53-4b1b-9b3d-62d5f267815c')\"\n",
       "            title=\"Convert this dataframe to an interactive table.\"\n",
       "            style=\"display:none;\">\n",
       "\n",
       "  <svg xmlns=\"http://www.w3.org/2000/svg\" height=\"24px\" viewBox=\"0 -960 960 960\">\n",
       "    <path d=\"M120-120v-720h720v720H120Zm60-500h600v-160H180v160Zm220 220h160v-160H400v160Zm0 220h160v-160H400v160ZM180-400h160v-160H180v160Zm440 0h160v-160H620v160ZM180-180h160v-160H180v160Zm440 0h160v-160H620v160Z\"/>\n",
       "  </svg>\n",
       "    </button>\n",
       "\n",
       "  <style>\n",
       "    .colab-df-container {\n",
       "      display:flex;\n",
       "      gap: 12px;\n",
       "    }\n",
       "\n",
       "    .colab-df-convert {\n",
       "      background-color: #E8F0FE;\n",
       "      border: none;\n",
       "      border-radius: 50%;\n",
       "      cursor: pointer;\n",
       "      display: none;\n",
       "      fill: #1967D2;\n",
       "      height: 32px;\n",
       "      padding: 0 0 0 0;\n",
       "      width: 32px;\n",
       "    }\n",
       "\n",
       "    .colab-df-convert:hover {\n",
       "      background-color: #E2EBFA;\n",
       "      box-shadow: 0px 1px 2px rgba(60, 64, 67, 0.3), 0px 1px 3px 1px rgba(60, 64, 67, 0.15);\n",
       "      fill: #174EA6;\n",
       "    }\n",
       "\n",
       "    .colab-df-buttons div {\n",
       "      margin-bottom: 4px;\n",
       "    }\n",
       "\n",
       "    [theme=dark] .colab-df-convert {\n",
       "      background-color: #3B4455;\n",
       "      fill: #D2E3FC;\n",
       "    }\n",
       "\n",
       "    [theme=dark] .colab-df-convert:hover {\n",
       "      background-color: #434B5C;\n",
       "      box-shadow: 0px 1px 3px 1px rgba(0, 0, 0, 0.15);\n",
       "      filter: drop-shadow(0px 1px 2px rgba(0, 0, 0, 0.3));\n",
       "      fill: #FFFFFF;\n",
       "    }\n",
       "  </style>\n",
       "\n",
       "    <script>\n",
       "      const buttonEl =\n",
       "        document.querySelector('#df-36c64f27-ee53-4b1b-9b3d-62d5f267815c button.colab-df-convert');\n",
       "      buttonEl.style.display =\n",
       "        google.colab.kernel.accessAllowed ? 'block' : 'none';\n",
       "\n",
       "      async function convertToInteractive(key) {\n",
       "        const element = document.querySelector('#df-36c64f27-ee53-4b1b-9b3d-62d5f267815c');\n",
       "        const dataTable =\n",
       "          await google.colab.kernel.invokeFunction('convertToInteractive',\n",
       "                                                    [key], {});\n",
       "        if (!dataTable) return;\n",
       "\n",
       "        const docLinkHtml = 'Like what you see? Visit the ' +\n",
       "          '<a target=\"_blank\" href=https://colab.research.google.com/notebooks/data_table.ipynb>data table notebook</a>'\n",
       "          + ' to learn more about interactive tables.';\n",
       "        element.innerHTML = '';\n",
       "        dataTable['output_type'] = 'display_data';\n",
       "        await google.colab.output.renderOutput(dataTable, element);\n",
       "        const docLink = document.createElement('div');\n",
       "        docLink.innerHTML = docLinkHtml;\n",
       "        element.appendChild(docLink);\n",
       "      }\n",
       "    </script>\n",
       "  </div>\n",
       "\n",
       "\n",
       "<div id=\"df-b698f249-f710-42e1-9744-2f2685fe3bd9\">\n",
       "  <button class=\"colab-df-quickchart\" onclick=\"quickchart('df-b698f249-f710-42e1-9744-2f2685fe3bd9')\"\n",
       "            title=\"Suggest charts\"\n",
       "            style=\"display:none;\">\n",
       "\n",
       "<svg xmlns=\"http://www.w3.org/2000/svg\" height=\"24px\"viewBox=\"0 0 24 24\"\n",
       "     width=\"24px\">\n",
       "    <g>\n",
       "        <path d=\"M19 3H5c-1.1 0-2 .9-2 2v14c0 1.1.9 2 2 2h14c1.1 0 2-.9 2-2V5c0-1.1-.9-2-2-2zM9 17H7v-7h2v7zm4 0h-2V7h2v10zm4 0h-2v-4h2v4z\"/>\n",
       "    </g>\n",
       "</svg>\n",
       "  </button>\n",
       "\n",
       "<style>\n",
       "  .colab-df-quickchart {\n",
       "      --bg-color: #E8F0FE;\n",
       "      --fill-color: #1967D2;\n",
       "      --hover-bg-color: #E2EBFA;\n",
       "      --hover-fill-color: #174EA6;\n",
       "      --disabled-fill-color: #AAA;\n",
       "      --disabled-bg-color: #DDD;\n",
       "  }\n",
       "\n",
       "  [theme=dark] .colab-df-quickchart {\n",
       "      --bg-color: #3B4455;\n",
       "      --fill-color: #D2E3FC;\n",
       "      --hover-bg-color: #434B5C;\n",
       "      --hover-fill-color: #FFFFFF;\n",
       "      --disabled-bg-color: #3B4455;\n",
       "      --disabled-fill-color: #666;\n",
       "  }\n",
       "\n",
       "  .colab-df-quickchart {\n",
       "    background-color: var(--bg-color);\n",
       "    border: none;\n",
       "    border-radius: 50%;\n",
       "    cursor: pointer;\n",
       "    display: none;\n",
       "    fill: var(--fill-color);\n",
       "    height: 32px;\n",
       "    padding: 0;\n",
       "    width: 32px;\n",
       "  }\n",
       "\n",
       "  .colab-df-quickchart:hover {\n",
       "    background-color: var(--hover-bg-color);\n",
       "    box-shadow: 0 1px 2px rgba(60, 64, 67, 0.3), 0 1px 3px 1px rgba(60, 64, 67, 0.15);\n",
       "    fill: var(--button-hover-fill-color);\n",
       "  }\n",
       "\n",
       "  .colab-df-quickchart-complete:disabled,\n",
       "  .colab-df-quickchart-complete:disabled:hover {\n",
       "    background-color: var(--disabled-bg-color);\n",
       "    fill: var(--disabled-fill-color);\n",
       "    box-shadow: none;\n",
       "  }\n",
       "\n",
       "  .colab-df-spinner {\n",
       "    border: 2px solid var(--fill-color);\n",
       "    border-color: transparent;\n",
       "    border-bottom-color: var(--fill-color);\n",
       "    animation:\n",
       "      spin 1s steps(1) infinite;\n",
       "  }\n",
       "\n",
       "  @keyframes spin {\n",
       "    0% {\n",
       "      border-color: transparent;\n",
       "      border-bottom-color: var(--fill-color);\n",
       "      border-left-color: var(--fill-color);\n",
       "    }\n",
       "    20% {\n",
       "      border-color: transparent;\n",
       "      border-left-color: var(--fill-color);\n",
       "      border-top-color: var(--fill-color);\n",
       "    }\n",
       "    30% {\n",
       "      border-color: transparent;\n",
       "      border-left-color: var(--fill-color);\n",
       "      border-top-color: var(--fill-color);\n",
       "      border-right-color: var(--fill-color);\n",
       "    }\n",
       "    40% {\n",
       "      border-color: transparent;\n",
       "      border-right-color: var(--fill-color);\n",
       "      border-top-color: var(--fill-color);\n",
       "    }\n",
       "    60% {\n",
       "      border-color: transparent;\n",
       "      border-right-color: var(--fill-color);\n",
       "    }\n",
       "    80% {\n",
       "      border-color: transparent;\n",
       "      border-right-color: var(--fill-color);\n",
       "      border-bottom-color: var(--fill-color);\n",
       "    }\n",
       "    90% {\n",
       "      border-color: transparent;\n",
       "      border-bottom-color: var(--fill-color);\n",
       "    }\n",
       "  }\n",
       "</style>\n",
       "\n",
       "  <script>\n",
       "    async function quickchart(key) {\n",
       "      const quickchartButtonEl =\n",
       "        document.querySelector('#' + key + ' button');\n",
       "      quickchartButtonEl.disabled = true;  // To prevent multiple clicks.\n",
       "      quickchartButtonEl.classList.add('colab-df-spinner');\n",
       "      try {\n",
       "        const charts = await google.colab.kernel.invokeFunction(\n",
       "            'suggestCharts', [key], {});\n",
       "      } catch (error) {\n",
       "        console.error('Error during call to suggestCharts:', error);\n",
       "      }\n",
       "      quickchartButtonEl.classList.remove('colab-df-spinner');\n",
       "      quickchartButtonEl.classList.add('colab-df-quickchart-complete');\n",
       "    }\n",
       "    (() => {\n",
       "      let quickchartButtonEl =\n",
       "        document.querySelector('#df-b698f249-f710-42e1-9744-2f2685fe3bd9 button');\n",
       "      quickchartButtonEl.style.display =\n",
       "        google.colab.kernel.accessAllowed ? 'block' : 'none';\n",
       "    })();\n",
       "  </script>\n",
       "</div>\n",
       "\n",
       "  <div id=\"id_30da602d-0b0e-470b-9457-dcdde1ca0ffc\">\n",
       "    <style>\n",
       "      .colab-df-generate {\n",
       "        background-color: #E8F0FE;\n",
       "        border: none;\n",
       "        border-radius: 50%;\n",
       "        cursor: pointer;\n",
       "        display: none;\n",
       "        fill: #1967D2;\n",
       "        height: 32px;\n",
       "        padding: 0 0 0 0;\n",
       "        width: 32px;\n",
       "      }\n",
       "\n",
       "      .colab-df-generate:hover {\n",
       "        background-color: #E2EBFA;\n",
       "        box-shadow: 0px 1px 2px rgba(60, 64, 67, 0.3), 0px 1px 3px 1px rgba(60, 64, 67, 0.15);\n",
       "        fill: #174EA6;\n",
       "      }\n",
       "\n",
       "      [theme=dark] .colab-df-generate {\n",
       "        background-color: #3B4455;\n",
       "        fill: #D2E3FC;\n",
       "      }\n",
       "\n",
       "      [theme=dark] .colab-df-generate:hover {\n",
       "        background-color: #434B5C;\n",
       "        box-shadow: 0px 1px 3px 1px rgba(0, 0, 0, 0.15);\n",
       "        filter: drop-shadow(0px 1px 2px rgba(0, 0, 0, 0.3));\n",
       "        fill: #FFFFFF;\n",
       "      }\n",
       "    </style>\n",
       "    <button class=\"colab-df-generate\" onclick=\"generateWithVariable('df_top10_GlobalSales')\"\n",
       "            title=\"Generate code using this dataframe.\"\n",
       "            style=\"display:none;\">\n",
       "\n",
       "  <svg xmlns=\"http://www.w3.org/2000/svg\" height=\"24px\"viewBox=\"0 0 24 24\"\n",
       "       width=\"24px\">\n",
       "    <path d=\"M7,19H8.4L18.45,9,17,7.55,7,17.6ZM5,21V16.75L18.45,3.32a2,2,0,0,1,2.83,0l1.4,1.43a1.91,1.91,0,0,1,.58,1.4,1.91,1.91,0,0,1-.58,1.4L9.25,21ZM18.45,9,17,7.55Zm-12,3A5.31,5.31,0,0,0,4.9,8.1,5.31,5.31,0,0,0,1,6.5,5.31,5.31,0,0,0,4.9,4.9,5.31,5.31,0,0,0,6.5,1,5.31,5.31,0,0,0,8.1,4.9,5.31,5.31,0,0,0,12,6.5,5.46,5.46,0,0,0,6.5,12Z\"/>\n",
       "  </svg>\n",
       "    </button>\n",
       "    <script>\n",
       "      (() => {\n",
       "      const buttonEl =\n",
       "        document.querySelector('#id_30da602d-0b0e-470b-9457-dcdde1ca0ffc button.colab-df-generate');\n",
       "      buttonEl.style.display =\n",
       "        google.colab.kernel.accessAllowed ? 'block' : 'none';\n",
       "\n",
       "      buttonEl.onclick = () => {\n",
       "        google.colab.notebook.generateWithVariable('df_top10_GlobalSales');\n",
       "      }\n",
       "      })();\n",
       "    </script>\n",
       "  </div>\n",
       "\n",
       "    </div>\n",
       "  </div>\n"
      ],
      "text/plain": [
       "                        Name Platform  Year_of_Release         Genre  \\\n",
       "0                 Wii Sports      Wii           2006.0        Sports   \n",
       "1          Super Mario Bros.      NES           1985.0      Platform   \n",
       "2             Mario Kart Wii      Wii           2008.0        Racing   \n",
       "3          Wii Sports Resort      Wii           2009.0        Sports   \n",
       "4   Pokemon Red/Pokemon Blue       GB           1996.0  Role-Playing   \n",
       "5                     Tetris       GB           1989.0        Puzzle   \n",
       "6      New Super Mario Bros.       DS           2006.0      Platform   \n",
       "7                   Wii Play      Wii           2006.0          Misc   \n",
       "8  New Super Mario Bros. Wii      Wii           2009.0      Platform   \n",
       "9                  Duck Hunt      NES           1984.0       Shooter   \n",
       "\n",
       "   Global_Sales  \n",
       "0         82.53  \n",
       "1         40.24  \n",
       "2         35.52  \n",
       "3         32.77  \n",
       "4         31.37  \n",
       "5         30.26  \n",
       "6         29.80  \n",
       "7         28.92  \n",
       "8         28.32  \n",
       "9         28.31  "
      ]
     },
     "execution_count": 7,
     "metadata": {},
     "output_type": "execute_result"
    }
   ],
   "source": [
    "df_top10_GlobalSales = df[['Name','Platform', 'Year_of_Release', 'Genre', 'Global_Sales']].sort_values(by = 'Global_Sales', ascending = False).head(10)\n",
    "df_top10_GlobalSales\n"
   ]
  },
  {
   "cell_type": "code",
   "execution_count": null,
   "metadata": {
    "colab": {
     "base_uri": "https://localhost:8080/",
     "height": 720
    },
    "id": "teRXEO8v40aU",
    "outputId": "6c4c5927-95fc-498f-c963-cc42aca350eb"
   },
   "outputs": [
    {
     "name": "stdout",
     "output_type": "stream",
     "text": [
      "Value counts for Publisher:\n",
      "Publisher\n",
      "Electronic Arts                 1356\n",
      "Activision                       985\n",
      "Namco Bandai Games               939\n",
      "Ubisoft                          933\n",
      "Konami Digital Entertainment     834\n",
      "                                ... \n",
      "Valve                              1\n",
      "ITT Family Games                   1\n",
      "Elite                              1\n",
      "Evolution Games                    1\n",
      "Red Flagship                       1\n",
      "Name: count, Length: 581, dtype: int64\n"
     ]
    },
    {
     "data": {
      "image/png": "[encoded data removed]",
      "text/plain": [
       "<Figure size 1000x600 with 1 Axes>"
      ]
     },
     "metadata": {},
     "output_type": "display_data"
    }
   ],
   "source": [
    "\n",
    "publisher_counts = df['Publisher'].value_counts()\n",
    "print(\"Value counts for Publisher:\")\n",
    "print(publisher_counts)\n",
    "\n",
    "#top 10 publishers\n",
    "plt.figure(figsize=(10, 6))\n",
    "publisher_counts.head(10).plot(kind='bar', color='skyblue')\n",
    "plt.title('Top 10 Publishers by Number of Games')\n",
    "plt.xlabel('Publisher')\n",
    "plt.ylabel('Number of Games')\n",
    "plt.xticks(rotation=45, ha='right')\n",
    "plt.tight_layout()\n",
    "plt.show()\n"
   ]
  },
  {
   "cell_type": "code",
   "execution_count": null,
   "metadata": {
    "colab": {
     "base_uri": "https://localhost:8080/",
     "height": 738
    },
    "id": "6MCUvSKt40hZ",
    "outputId": "7d3dcd1c-64d0-476c-ce30-daec1a7c9b74"
   },
   "outputs": [
    {
     "name": "stdout",
     "output_type": "stream",
     "text": [
      "Value counts for Genre:\n",
      "Genre\n",
      "Action          3370\n",
      "Sports          2348\n",
      "Misc            1750\n",
      "Role-Playing    1500\n",
      "Shooter         1323\n",
      "Adventure       1303\n",
      "Racing          1249\n",
      "Platform         888\n",
      "Simulation       874\n",
      "Fighting         849\n",
      "Strategy         683\n",
      "Puzzle           580\n",
      "Name: count, dtype: int64\n"
     ]
    },
    {
     "data": {
      "image/png": "[encoded data removed]",
      "text/plain": [
       "<Figure size 1000x600 with 1 Axes>"
      ]
     },
     "metadata": {},
     "output_type": "display_data"
    }
   ],
   "source": [
    "# total  redondance our chaque genre\n",
    "publisher_genre = df['Genre'].value_counts()\n",
    "print(\"Value counts for Genre:\")\n",
    "print(publisher_genre)\n",
    "\n",
    "plt.figure(figsize=(10, 6))\n",
    "publisher_genre.plot(kind='bar', color='skyblue')\n",
    "plt.title('Top Genres')\n",
    "plt.xlabel('Genre')\n",
    "plt.ylabel('Number of Games')\n",
    "plt.xticks(rotation=45, ha='right')\n",
    "plt.tight_layout()\n",
    "plt.show()\n"
   ]
  },
  {
   "cell_type": "code",
   "execution_count": null,
   "metadata": {
    "colab": {
     "base_uri": "https://localhost:8080/"
    },
    "id": "mKzKMABq40nj",
    "outputId": "ed7684bc-0fc5-4fea-a293-a9de545114ba"
   },
   "outputs": [
    {
     "name": "stdout",
     "output_type": "stream",
     "text": [
      "Target Game:\n",
      "Name            Call of Duty: Black Ops\n",
      "Platform                           X360\n",
      "Genre                           Shooter\n",
      "Critic_Score                       87.0\n",
      "User_Score                          6.3\n",
      "Name: 32, dtype: object\n",
      "Recommended Games:\n",
      "                                  Name Platform    Genre  Critic_Score  \\\n",
      "14660           007: Quantum of Solace       PC   Action          70.0   \n",
      "100         Call of Duty: World at War     X360  Shooter          84.0   \n",
      "10571  Minority Report: Everybody Runs       GC   Action          53.0   \n",
      "12625        Kelly Slater's Pro Surfer       GC   Sports          80.0   \n",
      "567        Call Of Duty 2: Big Red One      PS2  Shooter          77.0   \n",
      "\n",
      "      User_Score  \n",
      "14660        6.3  \n",
      "100          7.6  \n",
      "10571        tbd  \n",
      "12625        tbd  \n",
      "567          8.2  \n"
     ]
    }
   ],
   "source": [
    "features = ['Publisher','Developer','Genre', 'Platform','User_Score']\n",
    "\n",
    "X = df[features].fillna(0)\n",
    "X = pd.get_dummies(X)\n",
    "X = StandardScaler().fit_transform(X)\n",
    "\n",
    "similarity_matrix = cosine_similarity(X, X)\n",
    "\n",
    "target_game_index = 32\n",
    "target_game = df.iloc[target_game_index]\n",
    "\n",
    "print(\"Target Game:\")\n",
    "print(target_game[['Name', 'Platform', 'Genre', 'Critic_Score', 'User_Score']])\n",
    "\n",
    "similar_games_indices = similarity_matrix[target_game_index].argsort()[::-1][1:6]\n",
    "\n",
    "recommended_games = df.iloc[similar_games_indices]\n",
    "\n",
    "print(\"Recommended Games:\")\n",
    "print(recommended_games[['Name', 'Platform', 'Genre', 'Critic_Score', 'User_Score']])\n"
   ]
  },
  {
   "cell_type": "code",
   "execution_count": null,
   "metadata": {
    "colab": {
     "base_uri": "https://localhost:8080/"
    },
    "id": "CER90j8f7ea1",
    "outputId": "2cff00cb-893b-47d1-adbc-5e30451072d2"
   },
   "outputs": [
    {
     "name": "stdout",
     "output_type": "stream",
     "text": [
      "Recommended Games like Call of Duty: Black Ops in EU :\n",
      "Call of Duty: Black Ops 3 Platform :  XOne\n",
      "Call of Duty: Black Ops Platform :  PC\n",
      "Call of Duty: Black Ops II Platform :  PC\n",
      "Call of Duty: Black Ops Platform :  PS3\n",
      "Call of Duty: Black Ops II Platform :  PS3\n",
      "Call of Duty: Black Ops 3 Platform :  PS4\n",
      "Call of Duty: Black Ops 3 Platform :  PS3\n",
      "Call of Duty 3 Platform :  PS3\n",
      "Call of Duty 3 Platform :  X360\n"
     ]
    }
   ],
   "source": [
    "features = ['Name','Genre', 'Publisher', 'Developer', 'Rating', 'JP_Sales', 'EU_Sales', 'NA_Sales', 'Other_Sales']\n",
    "\n",
    "df['combined_features'] = df[features].apply(lambda x: ' '.join(x.astype(str)), axis=1)\n",
    "\n",
    "tfidf_vectorizer = TfidfVectorizer(stop_words='english')\n",
    "\n",
    "tfidf_matrix = tfidf_vectorizer.fit_transform(df['combined_features'])\n",
    "\n",
    "cosine_sim = linear_kernel(tfidf_matrix, tfidf_matrix)\n",
    "\n",
    "target_game_index = 41\n",
    "target_game_name = df.loc[target_game_index, 'Name']\n",
    "\n",
    "target_game_index = df.index[df['Name'] == target_game_name].tolist()[0]\n",
    "\n",
    "user_location = 'EU'\n",
    "\n",
    "if user_location == 'JP':\n",
    "    sales_column = 'JP_Sales'\n",
    "elif user_location == 'EU':\n",
    "    sales_column = 'EU_Sales'\n",
    "elif user_location == 'NA':\n",
    "    sales_column = 'NA_Sales'\n",
    "else:\n",
    "    sales_column = 'Other_Sales'\n",
    "\n",
    "top_sales_indices = df[sales_column].nlargest(1000).index\n",
    "\n",
    "similar_games_indices = cosine_sim[target_game_index].argsort()[::-1][1:21]\n",
    "\n",
    "recommended_games_indices = [index for index in similar_games_indices if index in top_sales_indices]\n",
    "\n",
    "print(\"Recommended Games like\", target_game_name, \"in\", user_location, \":\")\n",
    "for index in recommended_games_indices:\n",
    "    print(df.loc[index, 'Name'],'Platform : ',df.loc[index,'Platform'])\n"
   ]
  },
  {
   "cell_type": "code",
   "execution_count": null,
   "metadata": {
    "colab": {
     "base_uri": "https://localhost:8080/"
    },
    "id": "cFQOCBmgPKKL",
    "outputId": "bc05cf89-5af4-4362-ad32-94050fc97c30"
   },
   "outputs": [
    {
     "name": "stdout",
     "output_type": "stream",
     "text": [
      "Recommended Games like NBA 2K15 on User's Preferred Platforms:\n",
      "NBA 2K15\n",
      "NBA 2K12\n",
      "NBA 2K16\n",
      "NBA 2K17\n",
      "NBA 2K17\n",
      "NBA 2K13\n",
      "NBA 2K14\n",
      "NBA 2K11\n",
      "WWE 2K15\n",
      "Major League Baseball 2K11\n",
      "Major League Baseball 2K12\n"
     ]
    }
   ],
   "source": [
    "features = ['Name','Developer','Genre','User_Score']\n",
    "\n",
    "df['combined_features'] = df[features].apply(lambda x: ' '.join(x.astype(str)), axis=1)\n",
    "\n",
    "tfidf_vectorizer = TfidfVectorizer(stop_words='english')\n",
    "\n",
    "tfidf_matrix = tfidf_vectorizer.fit_transform(df['combined_features'])\n",
    "\n",
    "cosine_sim = linear_kernel(tfidf_matrix, tfidf_matrix)\n",
    "\n",
    "target_game_index = 1462\n",
    "target_game_name = df.loc[target_game_index, 'Name']\n",
    "\n",
    "target_game_index = df.index[df['Name'] == target_game_name].tolist()[0]\n",
    "\n",
    "user_platforms = ['PS4', 'Xbox One', 'PC']\n",
    "\n",
    "similar_games_indices = cosine_sim[target_game_index].argsort()[::-1][1:101]\n",
    "recommended_games_indices = [index for index in similar_games_indices if df.loc[index, 'Platform'] in user_platforms]\n",
    "\n",
    "print(\"Recommended Games like\", target_game_name, \"on User's Preferred Platforms:\")\n",
    "for index in recommended_games_indices:\n",
    "    print(df.loc[index, 'Name'])\n"
   ]
  }
 ],
 "metadata": {
  "colab": {
   "provenance": []
  },
  "kernelspec": {
   "display_name": "Python 3",
   "name": "python3"
  },
  "language_info": {
   "name": "python"
  }
 },
 "nbformat": 4,
 "nbformat_minor": 0
}
